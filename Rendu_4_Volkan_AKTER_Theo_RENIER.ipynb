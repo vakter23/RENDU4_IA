{
  "metadata": {
    "kernelspec": {
      "language": "python",
      "display_name": "Python 3",
      "name": "python3"
    },
    "language_info": {
      "pygments_lexer": "ipython3",
      "nbconvert_exporter": "python",
      "version": "3.6.4",
      "file_extension": ".py",
      "codemirror_mode": {
        "name": "ipython",
        "version": 3
      },
      "name": "python",
      "mimetype": "text/x-python"
    },
    "colab": {
      "provenance": [],
      "include_colab_link": true
    }
  },
  "nbformat_minor": 0,
  "nbformat": 4,
  "cells": [
    {
      "cell_type": "markdown",
      "metadata": {
        "id": "view-in-github",
        "colab_type": "text"
      },
      "source": [
        "<a href=\"https://colab.research.google.com/github/vakter23/RENDU4_IA/blob/main/Rendu_4_Volkan_AKTER_Theo_RENIER.ipynb\" target=\"_parent\"><img src=\"https://colab.research.google.com/assets/colab-badge.svg\" alt=\"Open In Colab\"/></a>"
      ]
    },
    {
      "cell_type": "markdown",
      "source": [
        "<center><h1 class=\"list-group-item list-group-item-success\">Rendu 4 - Volkan AKTER / Theo RENIER - ITS3 FISA</h1></center>"
      ],
      "metadata": {
        "id": "aEWVaa9RmhyB"
      }
    },
    {
      "source": [
        "import os\n",
        "import sys\n",
        "from tempfile import NamedTemporaryFile\n",
        "from urllib.request import urlopen\n",
        "from urllib.parse import unquote, urlparse\n",
        "from urllib.error import HTTPError\n",
        "from zipfile import ZipFile\n",
        "import tarfile\n",
        "import shutil\n",
        "\n",
        "CHUNK_SIZE = 40960\n",
        "DATA_SOURCE_MAPPING = 'mit-bih-arrhythmia-database:https%3A%2F%2Fstorage.googleapis.com%2Fkaggle-data-sets%2F1720520%2F2814341%2Fbundle%2Farchive.zip%3FX-Goog-Algorithm%3DGOOG4-RSA-SHA256%26X-Goog-Credential%3Dgcp-kaggle-com%2540kaggle-161607.iam.gserviceaccount.com%252F20240608%252Fauto%252Fstorage%252Fgoog4_request%26X-Goog-Date%3D20240608T160637Z%26X-Goog-Expires%3D259200%26X-Goog-SignedHeaders%3Dhost%26X-Goog-Signature%3Daa74781c217cce7988c5a9df1619b1d5b9bfbdd1b10bb5e4015d1cd1195fae17082a3e401b3bbb9556b456c3345ebbd2e094a7b5475f9ae5b2f678aadebd6c8beeac70558bf5eb483d7cd76132f6966dff008338d0b7bec3291d045e87915fde6c46877e1dcb3092a6b0ed1c65ff4fb1a9f4d46a3f844ecaeeb44af047c828e8fc89844802fa83f1248587967ff8309b4b56c64621a71a59c83f8236c8819340c2215f67e35c978b4ccccffcb2da33f431d28233a6bba1cee205511aaeeb1388103c0f4659e4da514bb8db2df72dd2a64322452badd739e71676d4c4eeff82a60fe96c46917bfc6aa3ab33c2364167873c15c8c733aacccb14b669add2c34ef9'\n",
        "\n",
        "INPUT_PATH='/home/input'\n",
        "WORKING_PATH='/home/working'\n",
        "KAGGLE_SYMLINK='home'\n",
        "\n",
        "!umount /home/input/ 2> /dev/null\n",
        "shutil.rmtree('/home/input', ignore_errors=True)\n",
        "os.makedirs(INPUT_PATH, 0o777, exist_ok=True)\n",
        "os.makedirs(WORKING_PATH, 0o777, exist_ok=True)\n",
        "\n",
        "try:\n",
        "  os.symlink(INPUT_PATH, os.path.join(\"..\", 'input'), target_is_directory=True)\n",
        "except FileExistsError:\n",
        "  pass\n",
        "try:\n",
        "  os.symlink(WORKING_PATH, os.path.join(\"..\", 'working'), target_is_directory=True)\n",
        "except FileExistsError:\n",
        "  pass\n",
        "\n",
        "for data_source_mapping in DATA_SOURCE_MAPPING.split(','):\n",
        "    directory, download_url_encoded = data_source_mapping.split(':')\n",
        "    download_url = unquote(download_url_encoded)\n",
        "    filename = urlparse(download_url).path\n",
        "    destination_path = os.path.join(INPUT_PATH, directory)\n",
        "    try:\n",
        "        with urlopen(download_url) as fileres, NamedTemporaryFile() as tfile:\n",
        "            total_length = fileres.headers['content-length']\n",
        "            print(f'Downloading {directory}, {total_length} bytes compressed')\n",
        "            dl = 0\n",
        "            data = fileres.read(CHUNK_SIZE)\n",
        "            while len(data) > 0:\n",
        "                dl += len(data)\n",
        "                tfile.write(data)\n",
        "                done = int(50 * dl / int(total_length))\n",
        "                sys.stdout.write(f\"\\r[{'=' * done}{' ' * (50-done)}] {dl} bytes downloaded\")\n",
        "                sys.stdout.flush()\n",
        "                data = fileres.read(CHUNK_SIZE)\n",
        "            if filename.endswith('.zip'):\n",
        "              with ZipFile(tfile) as zfile:\n",
        "                zfile.extractall(destination_path)\n",
        "            else:\n",
        "              with tarfile.open(tfile.name) as tarfile:\n",
        "                tarfile.extractall(destination_path)\n",
        "            print(f'\\nDownloaded and uncompressed: {directory}')\n",
        "    except HTTPError as e:\n",
        "        print(f'Failed to load (likely expired) {download_url} to path {destination_path}')\n",
        "        continue\n",
        "    except OSError as e:\n",
        "        print(f'Failed to load {download_url} to path {destination_path}')\n",
        "        continue\n",
        "\n",
        "print('Data source import complete.')\n"
      ],
      "metadata": {
        "colab": {
          "base_uri": "https://localhost:8080/"
        },
        "id": "nIFbVrV6mhx_",
        "outputId": "6834ae6a-8cba-4117-f7b8-5ba6c2afd15c"
      },
      "cell_type": "code",
      "outputs": [
        {
          "output_type": "stream",
          "name": "stdout",
          "text": [
            "Downloading mit-bih-arrhythmia-database, 66220022 bytes compressed\n",
            "[==================================================] 66220022 bytes downloaded\n",
            "Downloaded and uncompressed: mit-bih-arrhythmia-database\n",
            "Data source import complete.\n"
          ]
        }
      ],
      "execution_count": null
    },
    {
      "cell_type": "markdown",
      "source": [
        "<div style=\"background:#c72e57;color:#fff;padding:1em 2em 1.5em 2em;border-radius: 3px;font-weight:bold\">\n",
        "    <strong>\n",
        "        <h4 style = \"color:#fff\"><font size = 4>Installation des librairies</font></h4>\n",
        "    </strong>\n",
        "</div>"
      ],
      "metadata": {
        "id": "Vm7H_TkmmhyD"
      }
    },
    {
      "cell_type": "code",
      "source": [
        "pip install wfdb"
      ],
      "metadata": {
        "id": "g495OOGpqb3l",
        "outputId": "94f05168-4e4c-4093-974c-17da29e149ac",
        "colab": {
          "base_uri": "https://localhost:8080/"
        }
      },
      "execution_count": null,
      "outputs": [
        {
          "output_type": "stream",
          "name": "stdout",
          "text": [
            "Collecting wfdb\n",
            "  Downloading wfdb-4.1.2-py3-none-any.whl (159 kB)\n",
            "\u001b[?25l     \u001b[90m━━━━━━━━━━━━━━━━━━━━━━━━━━━━━━━━━━━━━━━━\u001b[0m \u001b[32m0.0/160.0 kB\u001b[0m \u001b[31m?\u001b[0m eta \u001b[36m-:--:--\u001b[0m\r\u001b[2K     \u001b[91m━━━━━━━━━━━━━━━━━━━━━━━━━━━━━━━━━━━━━━\u001b[0m\u001b[90m╺\u001b[0m\u001b[90m━\u001b[0m \u001b[32m153.6/160.0 kB\u001b[0m \u001b[31m4.8 MB/s\u001b[0m eta \u001b[36m0:00:01\u001b[0m\r\u001b[2K     \u001b[90m━━━━━━━━━━━━━━━━━━━━━━━━━━━━━━━━━━━━━━━━\u001b[0m \u001b[32m160.0/160.0 kB\u001b[0m \u001b[31m3.9 MB/s\u001b[0m eta \u001b[36m0:00:00\u001b[0m\n",
            "\u001b[?25hRequirement already satisfied: SoundFile>=0.10.0 in /usr/local/lib/python3.10/dist-packages (from wfdb) (0.12.1)\n",
            "Requirement already satisfied: matplotlib>=3.2.2 in /usr/local/lib/python3.10/dist-packages (from wfdb) (3.7.1)\n",
            "Requirement already satisfied: numpy>=1.10.1 in /usr/local/lib/python3.10/dist-packages (from wfdb) (1.25.2)\n",
            "Requirement already satisfied: pandas>=1.3.0 in /usr/local/lib/python3.10/dist-packages (from wfdb) (2.0.3)\n",
            "Requirement already satisfied: requests>=2.8.1 in /usr/local/lib/python3.10/dist-packages (from wfdb) (2.31.0)\n",
            "Requirement already satisfied: scipy>=1.0.0 in /usr/local/lib/python3.10/dist-packages (from wfdb) (1.11.4)\n",
            "Requirement already satisfied: contourpy>=1.0.1 in /usr/local/lib/python3.10/dist-packages (from matplotlib>=3.2.2->wfdb) (1.2.1)\n",
            "Requirement already satisfied: cycler>=0.10 in /usr/local/lib/python3.10/dist-packages (from matplotlib>=3.2.2->wfdb) (0.12.1)\n",
            "Requirement already satisfied: fonttools>=4.22.0 in /usr/local/lib/python3.10/dist-packages (from matplotlib>=3.2.2->wfdb) (4.53.0)\n",
            "Requirement already satisfied: kiwisolver>=1.0.1 in /usr/local/lib/python3.10/dist-packages (from matplotlib>=3.2.2->wfdb) (1.4.5)\n",
            "Requirement already satisfied: packaging>=20.0 in /usr/local/lib/python3.10/dist-packages (from matplotlib>=3.2.2->wfdb) (24.0)\n",
            "Requirement already satisfied: pillow>=6.2.0 in /usr/local/lib/python3.10/dist-packages (from matplotlib>=3.2.2->wfdb) (9.4.0)\n",
            "Requirement already satisfied: pyparsing>=2.3.1 in /usr/local/lib/python3.10/dist-packages (from matplotlib>=3.2.2->wfdb) (3.1.2)\n",
            "Requirement already satisfied: python-dateutil>=2.7 in /usr/local/lib/python3.10/dist-packages (from matplotlib>=3.2.2->wfdb) (2.8.2)\n",
            "Requirement already satisfied: pytz>=2020.1 in /usr/local/lib/python3.10/dist-packages (from pandas>=1.3.0->wfdb) (2023.4)\n",
            "Requirement already satisfied: tzdata>=2022.1 in /usr/local/lib/python3.10/dist-packages (from pandas>=1.3.0->wfdb) (2024.1)\n",
            "Requirement already satisfied: charset-normalizer<4,>=2 in /usr/local/lib/python3.10/dist-packages (from requests>=2.8.1->wfdb) (3.3.2)\n",
            "Requirement already satisfied: idna<4,>=2.5 in /usr/local/lib/python3.10/dist-packages (from requests>=2.8.1->wfdb) (3.7)\n",
            "Requirement already satisfied: urllib3<3,>=1.21.1 in /usr/local/lib/python3.10/dist-packages (from requests>=2.8.1->wfdb) (2.0.7)\n",
            "Requirement already satisfied: certifi>=2017.4.17 in /usr/local/lib/python3.10/dist-packages (from requests>=2.8.1->wfdb) (2024.6.2)\n",
            "Requirement already satisfied: cffi>=1.0 in /usr/local/lib/python3.10/dist-packages (from SoundFile>=0.10.0->wfdb) (1.16.0)\n",
            "Requirement already satisfied: pycparser in /usr/local/lib/python3.10/dist-packages (from cffi>=1.0->SoundFile>=0.10.0->wfdb) (2.22)\n",
            "Requirement already satisfied: six>=1.5 in /usr/local/lib/python3.10/dist-packages (from python-dateutil>=2.7->matplotlib>=3.2.2->wfdb) (1.16.0)\n",
            "Installing collected packages: wfdb\n",
            "Successfully installed wfdb-4.1.2\n"
          ]
        }
      ]
    },
    {
      "cell_type": "code",
      "source": [
        "# Importing Required Packages\n",
        "import pandas as pd\n",
        "import numpy as np\n",
        "import matplotlib.pyplot as plt\n",
        "from keras.layers import Conv1D\n",
        "import wfdb\n",
        "# import wfdb\n",
        "from sklearn.model_selection import train_test_split\n",
        "from keras.models import Sequential\n",
        "from keras.layers import Dense, Flatten, Dropout\n",
        "from tensorflow.keras.utils import to_categorical\n",
        "from sklearn.metrics import roc_auc_score, accuracy_score, precision_score, recall_score\n",
        "import warnings\n",
        "warnings.filterwarnings(\"ignore\")\n",
        "import random\n",
        "from keras.layers import Bidirectional, LSTM\n",
        "# Random Initialization\n",
        "random.seed(42)"
      ],
      "metadata": {
        "execution": {
          "iopub.status.busy": "2021-11-15T10:39:50.503689Z",
          "iopub.execute_input": "2021-11-15T10:39:50.504337Z",
          "iopub.status.idle": "2021-11-15T10:39:56.991233Z",
          "shell.execute_reply.started": "2021-11-15T10:39:50.504241Z",
          "shell.execute_reply": "2021-11-15T10:39:56.990569Z"
        },
        "trusted": true,
        "id": "L9W5Ix6xmhyD"
      },
      "execution_count": null,
      "outputs": []
    },
    {
      "cell_type": "markdown",
      "source": [
        "<div style=\"background:#c72e57;color:#fff;padding:1em 2em 1.5em 2em;border-radius: 3px;font-weight:bold\">\n",
        "    <strong>\n",
        "        <h4 style = \"color:#fff\"><font size = 4>Récupération des données</font></h4>\n",
        "    </strong>\n",
        "</div>"
      ],
      "metadata": {
        "id": "A-I5-FUBmhyD"
      }
    },
    {
      "cell_type": "code",
      "source": [
        "data = '../input/mit-bih-arrhythmia-database/'"
      ],
      "metadata": {
        "execution": {
          "iopub.status.busy": "2021-11-15T10:39:56.9953Z",
          "iopub.execute_input": "2021-11-15T10:39:56.995651Z",
          "iopub.status.idle": "2021-11-15T10:39:57.003392Z",
          "shell.execute_reply.started": "2021-11-15T10:39:56.995611Z",
          "shell.execute_reply": "2021-11-15T10:39:57.002641Z"
        },
        "trusted": true,
        "id": "MTBcH5MdmhyE"
      },
      "execution_count": null,
      "outputs": []
    },
    {
      "cell_type": "code",
      "source": [
        "# Liste des Patients\n",
        "patients = ['100','101','102','103','104','105','106','107',\n",
        "           '108','109','111','112','113','114','115','116',\n",
        "           '117','118','119','121','122','123','124','200',\n",
        "           '201','202','203','205','207','208','209','210',\n",
        "           '212','213','214','215','217','219','220','221',\n",
        "           '222','223','228','230','231','232','233','234']"
      ],
      "metadata": {
        "execution": {
          "iopub.status.busy": "2021-11-15T10:39:57.014319Z",
          "iopub.execute_input": "2021-11-15T10:39:57.014629Z",
          "iopub.status.idle": "2021-11-15T10:39:57.035638Z",
          "shell.execute_reply.started": "2021-11-15T10:39:57.014591Z",
          "shell.execute_reply": "2021-11-15T10:39:57.034868Z"
        },
        "trusted": true,
        "id": "9vcunFBLmhyE"
      },
      "execution_count": null,
      "outputs": []
    },
    {
      "cell_type": "markdown",
      "source": [
        "<div style=\"background:#c72e57;color:#fff;padding:1em 2em 1.5em 2em;border-radius: 3px;font-weight:bold\">\n",
        "    <strong>\n",
        "        <h4 style = \"color:#fff\"><font size = 4>Analyse des données</font></h4>\n",
        "    </strong>\n",
        "</div>"
      ],
      "metadata": {
        "id": "4DAyX_jSmhyE"
      }
    },
    {
      "cell_type": "code",
      "source": [
        "# Creating a Empty Dataframe\n",
        "symbols_df = pd.DataFrame()\n",
        "\n",
        "# Reading all .atr files\n",
        "for pts in patients:\n",
        "    # Generating filepath for all .atr file names\n",
        "    file = data + pts\n",
        "    # Saving annotation object\n",
        "    annotation = wfdb.rdann(file, 'atr')\n",
        "    # Extracting symbols from the object\n",
        "    sym = annotation.symbol\n",
        "    # Saving value counts\n",
        "    values, counts = np.unique(sym, return_counts=True)\n",
        "    # Writing data points into dataframe\n",
        "    df_sub = pd.DataFrame({'symbol':values, 'Counts':counts, 'Patient Number':[pts]*len(counts)})\n",
        "    # Concatenating all data points\n",
        "    symbols_df = pd.concat([symbols_df, df_sub],axis = 0)"
      ],
      "metadata": {
        "execution": {
          "iopub.status.busy": "2021-11-15T10:39:57.038369Z",
          "iopub.execute_input": "2021-11-15T10:39:57.03922Z",
          "iopub.status.idle": "2021-11-15T10:40:00.562367Z",
          "shell.execute_reply.started": "2021-11-15T10:39:57.039176Z",
          "shell.execute_reply": "2021-11-15T10:40:00.561611Z"
        },
        "trusted": true,
        "id": "169RIf88mhyE"
      },
      "execution_count": null,
      "outputs": []
    },
    {
      "cell_type": "code",
      "source": [
        "# Symbols Dataframe\n",
        "symbols_df"
      ],
      "metadata": {
        "scrolled": true,
        "execution": {
          "iopub.status.busy": "2021-11-15T10:40:00.563478Z",
          "iopub.execute_input": "2021-11-15T10:40:00.563699Z",
          "iopub.status.idle": "2021-11-15T10:40:00.581832Z",
          "shell.execute_reply.started": "2021-11-15T10:40:00.563674Z",
          "shell.execute_reply": "2021-11-15T10:40:00.580949Z"
        },
        "trusted": true,
        "colab": {
          "base_uri": "https://localhost:8080/",
          "height": 423
        },
        "id": "Ed073MZomhyF",
        "outputId": "47fe9a44-5dcf-4089-b9dd-78896a0b0358"
      },
      "execution_count": null,
      "outputs": [
        {
          "output_type": "execute_result",
          "data": {
            "text/plain": [
              "   symbol  Counts Patient Number\n",
              "0       +       1            100\n",
              "1       A      33            100\n",
              "2       N    2239            100\n",
              "3       V       1            100\n",
              "0       +       1            101\n",
              "..    ...     ...            ...\n",
              "0       +       3            234\n",
              "1       J      50            234\n",
              "2       N    2700            234\n",
              "3       V       3            234\n",
              "4       ~       8            234\n",
              "\n",
              "[283 rows x 3 columns]"
            ],
            "text/html": [
              "\n",
              "  <div id=\"df-18ec4a55-634e-4200-8710-b5a08ed2e8e2\" class=\"colab-df-container\">\n",
              "    <div>\n",
              "<style scoped>\n",
              "    .dataframe tbody tr th:only-of-type {\n",
              "        vertical-align: middle;\n",
              "    }\n",
              "\n",
              "    .dataframe tbody tr th {\n",
              "        vertical-align: top;\n",
              "    }\n",
              "\n",
              "    .dataframe thead th {\n",
              "        text-align: right;\n",
              "    }\n",
              "</style>\n",
              "<table border=\"1\" class=\"dataframe\">\n",
              "  <thead>\n",
              "    <tr style=\"text-align: right;\">\n",
              "      <th></th>\n",
              "      <th>symbol</th>\n",
              "      <th>Counts</th>\n",
              "      <th>Patient Number</th>\n",
              "    </tr>\n",
              "  </thead>\n",
              "  <tbody>\n",
              "    <tr>\n",
              "      <th>0</th>\n",
              "      <td>+</td>\n",
              "      <td>1</td>\n",
              "      <td>100</td>\n",
              "    </tr>\n",
              "    <tr>\n",
              "      <th>1</th>\n",
              "      <td>A</td>\n",
              "      <td>33</td>\n",
              "      <td>100</td>\n",
              "    </tr>\n",
              "    <tr>\n",
              "      <th>2</th>\n",
              "      <td>N</td>\n",
              "      <td>2239</td>\n",
              "      <td>100</td>\n",
              "    </tr>\n",
              "    <tr>\n",
              "      <th>3</th>\n",
              "      <td>V</td>\n",
              "      <td>1</td>\n",
              "      <td>100</td>\n",
              "    </tr>\n",
              "    <tr>\n",
              "      <th>0</th>\n",
              "      <td>+</td>\n",
              "      <td>1</td>\n",
              "      <td>101</td>\n",
              "    </tr>\n",
              "    <tr>\n",
              "      <th>...</th>\n",
              "      <td>...</td>\n",
              "      <td>...</td>\n",
              "      <td>...</td>\n",
              "    </tr>\n",
              "    <tr>\n",
              "      <th>0</th>\n",
              "      <td>+</td>\n",
              "      <td>3</td>\n",
              "      <td>234</td>\n",
              "    </tr>\n",
              "    <tr>\n",
              "      <th>1</th>\n",
              "      <td>J</td>\n",
              "      <td>50</td>\n",
              "      <td>234</td>\n",
              "    </tr>\n",
              "    <tr>\n",
              "      <th>2</th>\n",
              "      <td>N</td>\n",
              "      <td>2700</td>\n",
              "      <td>234</td>\n",
              "    </tr>\n",
              "    <tr>\n",
              "      <th>3</th>\n",
              "      <td>V</td>\n",
              "      <td>3</td>\n",
              "      <td>234</td>\n",
              "    </tr>\n",
              "    <tr>\n",
              "      <th>4</th>\n",
              "      <td>~</td>\n",
              "      <td>8</td>\n",
              "      <td>234</td>\n",
              "    </tr>\n",
              "  </tbody>\n",
              "</table>\n",
              "<p>283 rows × 3 columns</p>\n",
              "</div>\n",
              "    <div class=\"colab-df-buttons\">\n",
              "\n",
              "  <div class=\"colab-df-container\">\n",
              "    <button class=\"colab-df-convert\" onclick=\"convertToInteractive('df-18ec4a55-634e-4200-8710-b5a08ed2e8e2')\"\n",
              "            title=\"Convert this dataframe to an interactive table.\"\n",
              "            style=\"display:none;\">\n",
              "\n",
              "  <svg xmlns=\"http://www.w3.org/2000/svg\" height=\"24px\" viewBox=\"0 -960 960 960\">\n",
              "    <path d=\"M120-120v-720h720v720H120Zm60-500h600v-160H180v160Zm220 220h160v-160H400v160Zm0 220h160v-160H400v160ZM180-400h160v-160H180v160Zm440 0h160v-160H620v160ZM180-180h160v-160H180v160Zm440 0h160v-160H620v160Z\"/>\n",
              "  </svg>\n",
              "    </button>\n",
              "\n",
              "  <style>\n",
              "    .colab-df-container {\n",
              "      display:flex;\n",
              "      gap: 12px;\n",
              "    }\n",
              "\n",
              "    .colab-df-convert {\n",
              "      background-color: #E8F0FE;\n",
              "      border: none;\n",
              "      border-radius: 50%;\n",
              "      cursor: pointer;\n",
              "      display: none;\n",
              "      fill: #1967D2;\n",
              "      height: 32px;\n",
              "      padding: 0 0 0 0;\n",
              "      width: 32px;\n",
              "    }\n",
              "\n",
              "    .colab-df-convert:hover {\n",
              "      background-color: #E2EBFA;\n",
              "      box-shadow: 0px 1px 2px rgba(60, 64, 67, 0.3), 0px 1px 3px 1px rgba(60, 64, 67, 0.15);\n",
              "      fill: #174EA6;\n",
              "    }\n",
              "\n",
              "    .colab-df-buttons div {\n",
              "      margin-bottom: 4px;\n",
              "    }\n",
              "\n",
              "    [theme=dark] .colab-df-convert {\n",
              "      background-color: #3B4455;\n",
              "      fill: #D2E3FC;\n",
              "    }\n",
              "\n",
              "    [theme=dark] .colab-df-convert:hover {\n",
              "      background-color: #434B5C;\n",
              "      box-shadow: 0px 1px 3px 1px rgba(0, 0, 0, 0.15);\n",
              "      filter: drop-shadow(0px 1px 2px rgba(0, 0, 0, 0.3));\n",
              "      fill: #FFFFFF;\n",
              "    }\n",
              "  </style>\n",
              "\n",
              "    <script>\n",
              "      const buttonEl =\n",
              "        document.querySelector('#df-18ec4a55-634e-4200-8710-b5a08ed2e8e2 button.colab-df-convert');\n",
              "      buttonEl.style.display =\n",
              "        google.colab.kernel.accessAllowed ? 'block' : 'none';\n",
              "\n",
              "      async function convertToInteractive(key) {\n",
              "        const element = document.querySelector('#df-18ec4a55-634e-4200-8710-b5a08ed2e8e2');\n",
              "        const dataTable =\n",
              "          await google.colab.kernel.invokeFunction('convertToInteractive',\n",
              "                                                    [key], {});\n",
              "        if (!dataTable) return;\n",
              "\n",
              "        const docLinkHtml = 'Like what you see? Visit the ' +\n",
              "          '<a target=\"_blank\" href=https://colab.research.google.com/notebooks/data_table.ipynb>data table notebook</a>'\n",
              "          + ' to learn more about interactive tables.';\n",
              "        element.innerHTML = '';\n",
              "        dataTable['output_type'] = 'display_data';\n",
              "        await google.colab.output.renderOutput(dataTable, element);\n",
              "        const docLink = document.createElement('div');\n",
              "        docLink.innerHTML = docLinkHtml;\n",
              "        element.appendChild(docLink);\n",
              "      }\n",
              "    </script>\n",
              "  </div>\n",
              "\n",
              "\n",
              "<div id=\"df-ed3ab710-fc21-44f6-8053-742b23cbdc9d\">\n",
              "  <button class=\"colab-df-quickchart\" onclick=\"quickchart('df-ed3ab710-fc21-44f6-8053-742b23cbdc9d')\"\n",
              "            title=\"Suggest charts\"\n",
              "            style=\"display:none;\">\n",
              "\n",
              "<svg xmlns=\"http://www.w3.org/2000/svg\" height=\"24px\"viewBox=\"0 0 24 24\"\n",
              "     width=\"24px\">\n",
              "    <g>\n",
              "        <path d=\"M19 3H5c-1.1 0-2 .9-2 2v14c0 1.1.9 2 2 2h14c1.1 0 2-.9 2-2V5c0-1.1-.9-2-2-2zM9 17H7v-7h2v7zm4 0h-2V7h2v10zm4 0h-2v-4h2v4z\"/>\n",
              "    </g>\n",
              "</svg>\n",
              "  </button>\n",
              "\n",
              "<style>\n",
              "  .colab-df-quickchart {\n",
              "      --bg-color: #E8F0FE;\n",
              "      --fill-color: #1967D2;\n",
              "      --hover-bg-color: #E2EBFA;\n",
              "      --hover-fill-color: #174EA6;\n",
              "      --disabled-fill-color: #AAA;\n",
              "      --disabled-bg-color: #DDD;\n",
              "  }\n",
              "\n",
              "  [theme=dark] .colab-df-quickchart {\n",
              "      --bg-color: #3B4455;\n",
              "      --fill-color: #D2E3FC;\n",
              "      --hover-bg-color: #434B5C;\n",
              "      --hover-fill-color: #FFFFFF;\n",
              "      --disabled-bg-color: #3B4455;\n",
              "      --disabled-fill-color: #666;\n",
              "  }\n",
              "\n",
              "  .colab-df-quickchart {\n",
              "    background-color: var(--bg-color);\n",
              "    border: none;\n",
              "    border-radius: 50%;\n",
              "    cursor: pointer;\n",
              "    display: none;\n",
              "    fill: var(--fill-color);\n",
              "    height: 32px;\n",
              "    padding: 0;\n",
              "    width: 32px;\n",
              "  }\n",
              "\n",
              "  .colab-df-quickchart:hover {\n",
              "    background-color: var(--hover-bg-color);\n",
              "    box-shadow: 0 1px 2px rgba(60, 64, 67, 0.3), 0 1px 3px 1px rgba(60, 64, 67, 0.15);\n",
              "    fill: var(--button-hover-fill-color);\n",
              "  }\n",
              "\n",
              "  .colab-df-quickchart-complete:disabled,\n",
              "  .colab-df-quickchart-complete:disabled:hover {\n",
              "    background-color: var(--disabled-bg-color);\n",
              "    fill: var(--disabled-fill-color);\n",
              "    box-shadow: none;\n",
              "  }\n",
              "\n",
              "  .colab-df-spinner {\n",
              "    border: 2px solid var(--fill-color);\n",
              "    border-color: transparent;\n",
              "    border-bottom-color: var(--fill-color);\n",
              "    animation:\n",
              "      spin 1s steps(1) infinite;\n",
              "  }\n",
              "\n",
              "  @keyframes spin {\n",
              "    0% {\n",
              "      border-color: transparent;\n",
              "      border-bottom-color: var(--fill-color);\n",
              "      border-left-color: var(--fill-color);\n",
              "    }\n",
              "    20% {\n",
              "      border-color: transparent;\n",
              "      border-left-color: var(--fill-color);\n",
              "      border-top-color: var(--fill-color);\n",
              "    }\n",
              "    30% {\n",
              "      border-color: transparent;\n",
              "      border-left-color: var(--fill-color);\n",
              "      border-top-color: var(--fill-color);\n",
              "      border-right-color: var(--fill-color);\n",
              "    }\n",
              "    40% {\n",
              "      border-color: transparent;\n",
              "      border-right-color: var(--fill-color);\n",
              "      border-top-color: var(--fill-color);\n",
              "    }\n",
              "    60% {\n",
              "      border-color: transparent;\n",
              "      border-right-color: var(--fill-color);\n",
              "    }\n",
              "    80% {\n",
              "      border-color: transparent;\n",
              "      border-right-color: var(--fill-color);\n",
              "      border-bottom-color: var(--fill-color);\n",
              "    }\n",
              "    90% {\n",
              "      border-color: transparent;\n",
              "      border-bottom-color: var(--fill-color);\n",
              "    }\n",
              "  }\n",
              "</style>\n",
              "\n",
              "  <script>\n",
              "    async function quickchart(key) {\n",
              "      const quickchartButtonEl =\n",
              "        document.querySelector('#' + key + ' button');\n",
              "      quickchartButtonEl.disabled = true;  // To prevent multiple clicks.\n",
              "      quickchartButtonEl.classList.add('colab-df-spinner');\n",
              "      try {\n",
              "        const charts = await google.colab.kernel.invokeFunction(\n",
              "            'suggestCharts', [key], {});\n",
              "      } catch (error) {\n",
              "        console.error('Error during call to suggestCharts:', error);\n",
              "      }\n",
              "      quickchartButtonEl.classList.remove('colab-df-spinner');\n",
              "      quickchartButtonEl.classList.add('colab-df-quickchart-complete');\n",
              "    }\n",
              "    (() => {\n",
              "      let quickchartButtonEl =\n",
              "        document.querySelector('#df-ed3ab710-fc21-44f6-8053-742b23cbdc9d button');\n",
              "      quickchartButtonEl.style.display =\n",
              "        google.colab.kernel.accessAllowed ? 'block' : 'none';\n",
              "    })();\n",
              "  </script>\n",
              "</div>\n",
              "\n",
              "  <div id=\"id_43e8b3b1-52cd-4e17-ac8a-811a949f12ef\">\n",
              "    <style>\n",
              "      .colab-df-generate {\n",
              "        background-color: #E8F0FE;\n",
              "        border: none;\n",
              "        border-radius: 50%;\n",
              "        cursor: pointer;\n",
              "        display: none;\n",
              "        fill: #1967D2;\n",
              "        height: 32px;\n",
              "        padding: 0 0 0 0;\n",
              "        width: 32px;\n",
              "      }\n",
              "\n",
              "      .colab-df-generate:hover {\n",
              "        background-color: #E2EBFA;\n",
              "        box-shadow: 0px 1px 2px rgba(60, 64, 67, 0.3), 0px 1px 3px 1px rgba(60, 64, 67, 0.15);\n",
              "        fill: #174EA6;\n",
              "      }\n",
              "\n",
              "      [theme=dark] .colab-df-generate {\n",
              "        background-color: #3B4455;\n",
              "        fill: #D2E3FC;\n",
              "      }\n",
              "\n",
              "      [theme=dark] .colab-df-generate:hover {\n",
              "        background-color: #434B5C;\n",
              "        box-shadow: 0px 1px 3px 1px rgba(0, 0, 0, 0.15);\n",
              "        filter: drop-shadow(0px 1px 2px rgba(0, 0, 0, 0.3));\n",
              "        fill: #FFFFFF;\n",
              "      }\n",
              "    </style>\n",
              "    <button class=\"colab-df-generate\" onclick=\"generateWithVariable('symbols_df')\"\n",
              "            title=\"Generate code using this dataframe.\"\n",
              "            style=\"display:none;\">\n",
              "\n",
              "  <svg xmlns=\"http://www.w3.org/2000/svg\" height=\"24px\"viewBox=\"0 0 24 24\"\n",
              "       width=\"24px\">\n",
              "    <path d=\"M7,19H8.4L18.45,9,17,7.55,7,17.6ZM5,21V16.75L18.45,3.32a2,2,0,0,1,2.83,0l1.4,1.43a1.91,1.91,0,0,1,.58,1.4,1.91,1.91,0,0,1-.58,1.4L9.25,21ZM18.45,9,17,7.55Zm-12,3A5.31,5.31,0,0,0,4.9,8.1,5.31,5.31,0,0,0,1,6.5,5.31,5.31,0,0,0,4.9,4.9,5.31,5.31,0,0,0,6.5,1,5.31,5.31,0,0,0,8.1,4.9,5.31,5.31,0,0,0,12,6.5,5.46,5.46,0,0,0,6.5,12Z\"/>\n",
              "  </svg>\n",
              "    </button>\n",
              "    <script>\n",
              "      (() => {\n",
              "      const buttonEl =\n",
              "        document.querySelector('#id_43e8b3b1-52cd-4e17-ac8a-811a949f12ef button.colab-df-generate');\n",
              "      buttonEl.style.display =\n",
              "        google.colab.kernel.accessAllowed ? 'block' : 'none';\n",
              "\n",
              "      buttonEl.onclick = () => {\n",
              "        google.colab.notebook.generateWithVariable('symbols_df');\n",
              "      }\n",
              "      })();\n",
              "    </script>\n",
              "  </div>\n",
              "\n",
              "    </div>\n",
              "  </div>\n"
            ],
            "application/vnd.google.colaboratory.intrinsic+json": {
              "type": "dataframe",
              "variable_name": "symbols_df",
              "summary": "{\n  \"name\": \"symbols_df\",\n  \"rows\": 283,\n  \"fields\": [\n    {\n      \"column\": \"symbol\",\n      \"properties\": {\n        \"dtype\": \"category\",\n        \"num_unique_values\": 23,\n        \"samples\": [\n          \"R\",\n          \"F\",\n          \"+\"\n        ],\n        \"semantic_type\": \"\",\n        \"description\": \"\"\n      }\n    },\n    {\n      \"column\": \"Counts\",\n      \"properties\": {\n        \"dtype\": \"number\",\n        \"std\": 764,\n        \"min\": 1,\n        \"max\": 3195,\n        \"num_unique_values\": 134,\n        \"samples\": [\n          1254,\n          2061,\n          260\n        ],\n        \"semantic_type\": \"\",\n        \"description\": \"\"\n      }\n    },\n    {\n      \"column\": \"Patient Number\",\n      \"properties\": {\n        \"dtype\": \"category\",\n        \"num_unique_values\": 48,\n        \"samples\": [\n          \"205\",\n          \"222\",\n          \"203\"\n        ],\n        \"semantic_type\": \"\",\n        \"description\": \"\"\n      }\n    }\n  ]\n}"
            }
          },
          "metadata": {},
          "execution_count": 11
        }
      ]
    },
    {
      "cell_type": "code",
      "source": [
        "# Value Counts of Different symbols in data\n",
        "symbols_df.groupby('symbol').Counts.sum().sort_values(ascending = False)"
      ],
      "metadata": {
        "execution": {
          "iopub.status.busy": "2021-11-15T10:40:00.582855Z",
          "iopub.execute_input": "2021-11-15T10:40:00.583075Z",
          "iopub.status.idle": "2021-11-15T10:40:00.594544Z",
          "shell.execute_reply.started": "2021-11-15T10:40:00.583047Z",
          "shell.execute_reply": "2021-11-15T10:40:00.593567Z"
        },
        "trusted": true,
        "colab": {
          "base_uri": "https://localhost:8080/"
        },
        "id": "87RtEBpHmhyF",
        "outputId": "3d205589-2187-4d4b-d5bf-b2d2e4eb774f"
      },
      "execution_count": null,
      "outputs": [
        {
          "output_type": "execute_result",
          "data": {
            "text/plain": [
              "symbol\n",
              "N    75052\n",
              "L     8075\n",
              "R     7259\n",
              "V     7130\n",
              "/     7028\n",
              "A     2546\n",
              "+     1291\n",
              "f      982\n",
              "F      803\n",
              "~      616\n",
              "!      472\n",
              "\"      437\n",
              "j      229\n",
              "x      193\n",
              "a      150\n",
              "|      132\n",
              "E      106\n",
              "J       83\n",
              "Q       33\n",
              "e       16\n",
              "[        6\n",
              "]        6\n",
              "S        2\n",
              "Name: Counts, dtype: int64"
            ]
          },
          "metadata": {},
          "execution_count": 12
        }
      ]
    },
    {
      "cell_type": "markdown",
      "source": [
        "<div style=\"background:#c72e57;color:#fff;padding:1em 2em 1.5em 2em;border-radius: 3px;font-weight:bold\">\n",
        "    <strong>\n",
        "        <h4 style = \"color:#fff\"><font size = 4>Transformation des données</font></h4>\n",
        "    </strong>\n",
        "</div>"
      ],
      "metadata": {
        "id": "xmexSIafmhyF"
      }
    },
    {
      "cell_type": "code",
      "source": [
        "# Non Beat Symbols\n",
        "nonbeat = ['[','!',']','x','(',')','p','t','u','`',\n",
        "           '\\'','^','|','~','+','s','T','*','D','=','\"','@','Q','?']\n",
        "\n",
        "# Abnormal Beat Symbols\n",
        "abnormal = ['L','R','V','/','A','f','F','j','a','E','J','e','S']\n",
        "\n",
        "# Normal Beat Symbols\n",
        "normal = ['N']"
      ],
      "metadata": {
        "execution": {
          "iopub.status.busy": "2021-11-15T10:40:00.596036Z",
          "iopub.execute_input": "2021-11-15T10:40:00.596832Z",
          "iopub.status.idle": "2021-11-15T10:40:00.602047Z",
          "shell.execute_reply.started": "2021-11-15T10:40:00.596797Z",
          "shell.execute_reply": "2021-11-15T10:40:00.601539Z"
        },
        "trusted": true,
        "id": "qkiXuRDxmhyF"
      },
      "execution_count": null,
      "outputs": []
    },
    {
      "cell_type": "code",
      "source": [
        "# Classifying normal, abnormal or nonbeat\n",
        "symbols_df['category'] = -1\n",
        "symbols_df.loc[symbols_df.symbol == 'N','category'] = 0\n",
        "symbols_df.loc[symbols_df.symbol.isin(abnormal), 'category'] = 1"
      ],
      "metadata": {
        "execution": {
          "iopub.status.busy": "2021-11-15T10:40:00.602994Z",
          "iopub.execute_input": "2021-11-15T10:40:00.60374Z",
          "iopub.status.idle": "2021-11-15T10:40:00.617333Z",
          "shell.execute_reply.started": "2021-11-15T10:40:00.603705Z",
          "shell.execute_reply": "2021-11-15T10:40:00.616614Z"
        },
        "trusted": true,
        "id": "an6pAJm6mhyF"
      },
      "execution_count": null,
      "outputs": []
    },
    {
      "cell_type": "code",
      "source": [
        "# Value counts of different categories\n",
        "symbols_df.groupby('category').Counts.sum()"
      ],
      "metadata": {
        "execution": {
          "iopub.status.busy": "2021-11-15T10:40:00.619918Z",
          "iopub.execute_input": "2021-11-15T10:40:00.620306Z",
          "iopub.status.idle": "2021-11-15T10:40:00.630868Z",
          "shell.execute_reply.started": "2021-11-15T10:40:00.620263Z",
          "shell.execute_reply": "2021-11-15T10:40:00.630276Z"
        },
        "trusted": true,
        "colab": {
          "base_uri": "https://localhost:8080/"
        },
        "id": "buiF4tI0mhyF",
        "outputId": "9f857697-5027-4aaf-b453-03a9b1c15cd9"
      },
      "execution_count": null,
      "outputs": [
        {
          "output_type": "execute_result",
          "data": {
            "text/plain": [
              "category\n",
              "-1     3186\n",
              " 0    75052\n",
              " 1    34409\n",
              "Name: Counts, dtype: int64"
            ]
          },
          "metadata": {},
          "execution_count": 15
        }
      ]
    },
    {
      "cell_type": "code",
      "source": [
        "def load_ecg(file):\n",
        "    # load the ecg\n",
        "    record = wfdb.rdrecord(file)\n",
        "    # load the annotation\n",
        "    annotation = wfdb.rdann(file, 'atr')\n",
        "\n",
        "    # extracting the signal\n",
        "    p_signal = record.p_signal\n",
        "\n",
        "    # extracting symbols and annotation index\n",
        "    atr_sym = annotation.symbol\n",
        "    atr_sample = annotation.sample\n",
        "\n",
        "    return p_signal, atr_sym, atr_sample"
      ],
      "metadata": {
        "execution": {
          "iopub.status.busy": "2021-11-15T10:40:00.631891Z",
          "iopub.execute_input": "2021-11-15T10:40:00.632455Z",
          "iopub.status.idle": "2021-11-15T10:40:00.637683Z",
          "shell.execute_reply.started": "2021-11-15T10:40:00.632415Z",
          "shell.execute_reply": "2021-11-15T10:40:00.63691Z"
        },
        "trusted": true,
        "id": "Fr53TTFTmhyF"
      },
      "execution_count": null,
      "outputs": []
    },
    {
      "cell_type": "code",
      "source": [
        "# Accessing the ecg points for\n",
        "file = data + patients[8]"
      ],
      "metadata": {
        "execution": {
          "iopub.status.busy": "2021-11-15T10:40:00.638996Z",
          "iopub.execute_input": "2021-11-15T10:40:00.639199Z",
          "iopub.status.idle": "2021-11-15T10:40:00.648089Z",
          "shell.execute_reply.started": "2021-11-15T10:40:00.639174Z",
          "shell.execute_reply": "2021-11-15T10:40:00.647458Z"
        },
        "trusted": true,
        "id": "CzjQaw4gmhyG"
      },
      "execution_count": null,
      "outputs": []
    },
    {
      "cell_type": "code",
      "source": [
        "# Accessing the load ECG function and getting annotation.symbol, annotation.sample, signals\n",
        "p_signal, atr_sym, atr_sample = load_ecg(file)"
      ],
      "metadata": {
        "execution": {
          "iopub.status.busy": "2021-11-15T10:40:00.649308Z",
          "iopub.execute_input": "2021-11-15T10:40:00.649707Z",
          "iopub.status.idle": "2021-11-15T10:40:00.786437Z",
          "shell.execute_reply.started": "2021-11-15T10:40:00.649665Z",
          "shell.execute_reply": "2021-11-15T10:40:00.785481Z"
        },
        "trusted": true,
        "id": "TwYXPw3UmhyG"
      },
      "execution_count": null,
      "outputs": []
    },
    {
      "cell_type": "code",
      "source": [
        "# Analysing annotations value counts for a single record\n",
        "values, counts = np.unique(sym, return_counts=True)\n",
        "for v,c in zip(values, counts):\n",
        "    print(v,c)"
      ],
      "metadata": {
        "execution": {
          "iopub.status.busy": "2021-11-15T10:40:00.787744Z",
          "iopub.execute_input": "2021-11-15T10:40:00.788004Z",
          "iopub.status.idle": "2021-11-15T10:40:00.79705Z",
          "shell.execute_reply.started": "2021-11-15T10:40:00.787974Z",
          "shell.execute_reply": "2021-11-15T10:40:00.796471Z"
        },
        "trusted": true,
        "colab": {
          "base_uri": "https://localhost:8080/"
        },
        "id": "D3uxNkSFmhyG",
        "outputId": "9b6aa68b-2493-426a-9132-a6ffadd8bb95"
      },
      "execution_count": null,
      "outputs": [
        {
          "output_type": "stream",
          "name": "stdout",
          "text": [
            "+ 3\n",
            "J 50\n",
            "N 2700\n",
            "V 3\n",
            "~ 8\n"
          ]
        }
      ]
    },
    {
      "cell_type": "markdown",
      "source": [
        "<div style=\"background:#c72e57;color:#fff;padding:1em 2em 1.5em 2em;border-radius: 3px;font-weight:bold\">\n",
        "    <strong>\n",
        "        <h4 style = \"color:#fff\"><font size = 4>Visualisation des données</font></h4>\n",
        "    </strong>\n",
        "</div>"
      ],
      "metadata": {
        "id": "amzH4YaymhyG"
      }
    },
    {
      "cell_type": "code",
      "source": [
        "# get abnormal beat index\n",
        "ab_index = [b for a,b in zip(atr_sym,atr_sample) if a in abnormal][:10]\n",
        "ab_index"
      ],
      "metadata": {
        "execution": {
          "iopub.status.busy": "2021-11-15T10:40:00.798036Z",
          "iopub.execute_input": "2021-11-15T10:40:00.798602Z",
          "iopub.status.idle": "2021-11-15T10:40:00.80823Z",
          "shell.execute_reply.started": "2021-11-15T10:40:00.798555Z",
          "shell.execute_reply": "2021-11-15T10:40:00.807455Z"
        },
        "trusted": true,
        "colab": {
          "base_uri": "https://localhost:8080/"
        },
        "id": "WdJN0ODbmhyG",
        "outputId": "9eb594c6-aaf0-45f4-a72a-eb5d6cbfc73f"
      },
      "execution_count": null,
      "outputs": [
        {
          "output_type": "execute_result",
          "data": {
            "text/plain": [
              "[4105, 10876, 83824, 107330, 180041, 180621, 193553, 205731, 221206, 263192]"
            ]
          },
          "metadata": {},
          "execution_count": 20
        }
      ]
    },
    {
      "cell_type": "code",
      "source": [
        "# Generating evenly spaced values\n",
        "x = np.arange(len(p_signal))\n",
        "\n",
        "left = ab_index[5]-20000\n",
        "right = ab_index[5]+20000\n",
        "\n",
        "plt.figure(figsize=(20,8))\n",
        "plt.plot(x[left:right],p_signal[left:right,0],'-',label='ecg',)\n",
        "plt.plot(x[atr_sample],p_signal[atr_sample,0],'go',label ='normal')\n",
        "plt.plot(x[ab_index],p_signal[ab_index,0],'ro',label='abnormal')\n",
        "\n",
        "plt.xlim(left,right)\n",
        "plt.ylim(p_signal[left:right].min()-0.05,p_signal[left:right,0].max()+0.05)\n",
        "plt.xlabel('time index')\n",
        "plt.ylabel('ECG signal')\n",
        "plt.legend(bbox_to_anchor = (1.04,1), loc = 'upper left')\n",
        "plt.show()"
      ],
      "metadata": {
        "execution": {
          "iopub.status.busy": "2021-11-15T10:40:00.809257Z",
          "iopub.execute_input": "2021-11-15T10:40:00.809729Z",
          "iopub.status.idle": "2021-11-15T10:40:01.326275Z",
          "shell.execute_reply.started": "2021-11-15T10:40:00.809688Z",
          "shell.execute_reply": "2021-11-15T10:40:01.325681Z"
        },
        "trusted": true,
        "colab": {
          "base_uri": "https://localhost:8080/",
          "height": 624
        },
        "id": "AW4CcOE0mhyG",
        "outputId": "95caa62f-23e9-4576-8276-e9cd5b9a957e"
      },
      "execution_count": null,
      "outputs": [
        {
          "output_type": "display_data",
          "data": {
            "text/plain": [
              "<Figure size 2000x800 with 1 Axes>"
            ],
            "image/png": "[encoded data removed]"
          },
          "metadata": {}
        }
      ]
    },
    {
      "cell_type": "markdown",
      "source": [
        "<div style=\"background:#c72e57;color:#fff;padding:1em 2em 1.5em 2em;border-radius: 3px;font-weight:bold\">\n",
        "    <strong>\n",
        "        <h4 style = \"color:#fff\"><font size = 4>Preprocessing des données</font></h4>\n",
        "    </strong>\n",
        "</div>"
      ],
      "metadata": {
        "id": "Xycq_jimmhyG"
      }
    },
    {
      "cell_type": "code",
      "source": [
        "def make_dataset(pts, num_sec, fs, abnormal):\n",
        "    # function for making dataset ignoring non-beats\n",
        "    # input:\n",
        "    #   pts - list of patients\n",
        "    #   num_sec = number of seconds to include before and after the beat\n",
        "    #   fs = frequency\n",
        "    # output:\n",
        "    #   X_all = signal (nbeats , num_sec * fs columns)\n",
        "    #   Y_all = binary is abnormal (nbeats, 1)\n",
        "    #   sym_all = beat annotation symbol (nbeats,1)\n",
        "\n",
        "    # initialize numpy arrays\n",
        "    num_cols = 2*num_sec * fs\n",
        "    X_all = np.zeros((1,num_cols))\n",
        "    Y_all = np.zeros((1,1))\n",
        "    sym_all = []\n",
        "\n",
        "    # list to keep track of number of beats across patients\n",
        "    max_rows = []\n",
        "\n",
        "    for pt in pts:\n",
        "        file = data + pt\n",
        "\n",
        "        p_signal, atr_sym, atr_sample = load_ecg(file)\n",
        "\n",
        "        # grab the first signal\n",
        "        p_signal = p_signal[:,0]\n",
        "\n",
        "        # make df to exclude the nonbeats\n",
        "        df_ann = pd.DataFrame({'atr_sym':atr_sym,\n",
        "                              'atr_sample':atr_sample})\n",
        "        df_ann = df_ann.loc[df_ann.atr_sym.isin(abnormal + ['N'])]\n",
        "\n",
        "        X,Y,sym = build_XY(p_signal,df_ann, num_cols, abnormal)\n",
        "        sym_all = sym_all+sym\n",
        "        max_rows.append(X.shape[0])\n",
        "        X_all = np.append(X_all,X,axis = 0)\n",
        "        Y_all = np.append(Y_all,Y,axis = 0)\n",
        "\n",
        "    # drop the first zero row\n",
        "    X_all = X_all[1:,:]\n",
        "    Y_all = Y_all[1:,:]\n",
        "\n",
        "    return X_all, Y_all, sym_all\n"
      ],
      "metadata": {
        "execution": {
          "iopub.status.busy": "2021-11-15T10:40:01.32746Z",
          "iopub.execute_input": "2021-11-15T10:40:01.327849Z",
          "iopub.status.idle": "2021-11-15T10:40:01.337739Z",
          "shell.execute_reply.started": "2021-11-15T10:40:01.327813Z",
          "shell.execute_reply": "2021-11-15T10:40:01.336812Z"
        },
        "trusted": true,
        "id": "dfJvkxksmhyG"
      },
      "execution_count": null,
      "outputs": []
    },
    {
      "cell_type": "code",
      "source": [
        "def build_XY(p_signal, df_ann, num_cols, abnormal):\n",
        "    # this function builds the X,Y matrices for each beat\n",
        "    # it also returns the original symbols for Y\n",
        "\n",
        "    num_rows = len(df_ann)\n",
        "\n",
        "    X = np.zeros((num_rows, num_cols))\n",
        "    Y = np.zeros((num_rows,1))\n",
        "    sym = []\n",
        "\n",
        "    # keep track of rows\n",
        "    max_row = 0\n",
        "\n",
        "    for atr_sample, atr_sym in zip(df_ann.atr_sample.values,df_ann.atr_sym.values):\n",
        "\n",
        "        left = max([0,(atr_sample - num_sec*fs) ])\n",
        "        right = min([len(p_signal),(atr_sample + num_sec*fs) ])\n",
        "        x = p_signal[left: right]\n",
        "        if len(x) == num_cols:\n",
        "            X[max_row,:] = x\n",
        "            Y[max_row,:] = int(atr_sym in abnormal)\n",
        "            sym.append(atr_sym)\n",
        "            max_row += 1\n",
        "    X = X[:max_row,:]\n",
        "    Y = Y[:max_row,:]\n",
        "    return X,Y,sym"
      ],
      "metadata": {
        "execution": {
          "iopub.status.busy": "2021-11-15T10:40:01.339133Z",
          "iopub.execute_input": "2021-11-15T10:40:01.339893Z",
          "iopub.status.idle": "2021-11-15T10:40:01.35472Z",
          "shell.execute_reply.started": "2021-11-15T10:40:01.339846Z",
          "shell.execute_reply": "2021-11-15T10:40:01.353984Z"
        },
        "trusted": true,
        "id": "h9h_csNZmhyG"
      },
      "execution_count": null,
      "outputs": []
    },
    {
      "cell_type": "code",
      "source": [
        "# Parameter Values\n",
        "num_sec = 3\n",
        "fs = 360"
      ],
      "metadata": {
        "execution": {
          "iopub.status.busy": "2021-11-15T10:40:01.35616Z",
          "iopub.execute_input": "2021-11-15T10:40:01.35654Z",
          "iopub.status.idle": "2021-11-15T10:40:01.369601Z",
          "shell.execute_reply.started": "2021-11-15T10:40:01.356458Z",
          "shell.execute_reply": "2021-11-15T10:40:01.368839Z"
        },
        "trusted": true,
        "id": "QI7cif28mhyH"
      },
      "execution_count": null,
      "outputs": []
    },
    {
      "cell_type": "code",
      "source": [
        "# Accessing the fuction and creating a dataset with ECG digital Points\n",
        "X_all, Y_all, sym_all = make_dataset(patients, num_sec, fs, abnormal)"
      ],
      "metadata": {
        "execution": {
          "iopub.status.busy": "2021-11-15T10:40:01.371209Z",
          "iopub.execute_input": "2021-11-15T10:40:01.371898Z",
          "iopub.status.idle": "2021-11-15T10:40:26.992205Z",
          "shell.execute_reply.started": "2021-11-15T10:40:01.37185Z",
          "shell.execute_reply": "2021-11-15T10:40:26.991231Z"
        },
        "trusted": true,
        "id": "aGnTR75qmhyH"
      },
      "execution_count": null,
      "outputs": []
    },
    {
      "cell_type": "code",
      "source": [
        "# Train Test Split\n",
        "X_train, X_valid, y_train, y_valid = train_test_split(X_all, Y_all, test_size=0.33, random_state=42)"
      ],
      "metadata": {
        "execution": {
          "iopub.status.busy": "2021-11-15T10:40:26.993665Z",
          "iopub.execute_input": "2021-11-15T10:40:26.993975Z",
          "iopub.status.idle": "2021-11-15T10:40:27.581995Z",
          "shell.execute_reply.started": "2021-11-15T10:40:26.993935Z",
          "shell.execute_reply": "2021-11-15T10:40:27.581207Z"
        },
        "trusted": true,
        "id": "sbwLj1sKmhyH"
      },
      "execution_count": null,
      "outputs": []
    },
    {
      "cell_type": "markdown",
      "source": [
        "<div style=\"background:#5990f7;color:#fff;padding:1em 2em 1.5em 2em;border-radius: 3px;font-weight:bold\">\n",
        "    <strong>\n",
        "        <h4 style = \"color:#fff\"><font size = 4>Long Short Term Memory (LSTM)</font></h4>\n",
        "    </strong>\n",
        "</div>"
      ],
      "metadata": {
        "id": "0iKp4mpdmhyL"
      }
    },
    {
      "cell_type": "code",
      "source": [
        "# reshape input to [samples, time steps, features = 1] for CNN\n",
        "X_train_cnn = np.reshape(X_train, (X_train.shape[0], X_train.shape[1], 1))\n",
        "X_valid_cnn = np.reshape(X_valid, (X_valid.shape[0], X_valid.shape[1], 1))\n",
        "\n",
        "print(X_train_cnn.shape)\n",
        "print(X_valid_cnn.shape)"
      ],
      "metadata": {
        "colab": {
          "base_uri": "https://localhost:8080/"
        },
        "id": "xshn8FJZniLF",
        "outputId": "87737f49-afcd-4879-a892-c0279c6855f9"
      },
      "execution_count": null,
      "outputs": [
        {
          "output_type": "stream",
          "name": "stdout",
          "text": [
            "(73096, 2160, 1)\n",
            "(36003, 2160, 1)\n"
          ]
        }
      ]
    },
    {
      "cell_type": "code",
      "source": [
        "# Bidirectional LSTM with Dropout for reducing overfitting by randomly removing some nodes.\n",
        "model = Sequential()\n",
        "model.add(Bidirectional(LSTM(64, input_shape=(X_train_cnn.shape[1], X_train_cnn.shape[2]))))\n",
        "model.add(Dropout(rate = 0.25))\n",
        "model.add(Dense(1, activation = 'sigmoid'))\n",
        "model.compile(\n",
        "                loss = 'binary_crossentropy',\n",
        "                optimizer = 'adam',\n",
        "                metrics = ['accuracy'])"
      ],
      "metadata": {
        "execution": {
          "iopub.status.busy": "2021-11-15T10:47:36.220373Z",
          "iopub.execute_input": "2021-11-15T10:47:36.220667Z",
          "iopub.status.idle": "2021-11-15T10:47:36.255808Z",
          "shell.execute_reply.started": "2021-11-15T10:47:36.220635Z",
          "shell.execute_reply": "2021-11-15T10:47:36.255037Z"
        },
        "trusted": true,
        "id": "XiYk7-ohmhyL"
      },
      "execution_count": null,
      "outputs": []
    },
    {
      "cell_type": "code",
      "source": [
        "# Fitting Data\n",
        "model.fit(X_train_cnn[:10000], y_train[:10000], batch_size = 32, epochs= 1, verbose = 1)"
      ],
      "metadata": {
        "execution": {
          "iopub.status.busy": "2021-11-15T10:47:36.257089Z",
          "iopub.execute_input": "2021-11-15T10:47:36.257883Z",
          "iopub.status.idle": "2021-11-15T11:00:19.120134Z",
          "shell.execute_reply.started": "2021-11-15T10:47:36.257846Z",
          "shell.execute_reply": "2021-11-15T11:00:19.11952Z"
        },
        "trusted": true,
        "colab": {
          "base_uri": "https://localhost:8080/"
        },
        "id": "SFTLHPXYmhyL",
        "outputId": "fcbfb039-a8fd-41c6-bbc5-5224ead01c18"
      },
      "execution_count": null,
      "outputs": [
        {
          "output_type": "stream",
          "name": "stdout",
          "text": [
            "313/313 [==============================] - 491s 2s/step - loss: 0.6174 - accuracy: 0.6856\n"
          ]
        },
        {
          "output_type": "execute_result",
          "data": {
            "text/plain": [
              "<keras.src.callbacks.History at 0x7e7bf34e70a0>"
            ]
          },
          "metadata": {},
          "execution_count": 29
        }
      ]
    },
    {
      "cell_type": "code",
      "source": [
        "# Prediction\n",
        "y_train_preds_lstm = model.predict(X_train_cnn[:10000],verbose = 1)\n",
        "y_valid_preds_lstm = model.predict(X_valid_cnn,verbose = 1)"
      ],
      "metadata": {
        "execution": {
          "iopub.status.busy": "2021-11-15T11:00:19.121852Z",
          "iopub.execute_input": "2021-11-15T11:00:19.122181Z",
          "iopub.status.idle": "2021-11-15T11:15:56.964363Z",
          "shell.execute_reply.started": "2021-11-15T11:00:19.122136Z",
          "shell.execute_reply": "2021-11-15T11:15:56.963439Z"
        },
        "trusted": true,
        "colab": {
          "base_uri": "https://localhost:8080/"
        },
        "id": "gMsWSB7RmhyL",
        "outputId": "27dbe57c-8232-44db-aac3-fd7fca9c8751"
      },
      "execution_count": null,
      "outputs": [
        {
          "output_type": "stream",
          "name": "stdout",
          "text": [
            "313/313 [==============================] - 129s 410ms/step\n",
            " 464/1126 [===========>..................] - ETA: 4:25"
          ]
        }
      ]
    },
    {
      "cell_type": "code",
      "source": [
        "# Evaluation Metrics\n",
        "def print_report(y_actual, y_pred, thresh):\n",
        "    # Function to print evaluation metrics\n",
        "    auc = roc_auc_score(y_actual, y_pred)\n",
        "    accuracy = accuracy_score(y_actual, (y_pred > thresh))\n",
        "    recall = recall_score(y_actual, (y_pred > thresh))\n",
        "    precision = precision_score(y_actual, (y_pred > thresh))\n",
        "    specificity = sum((y_pred < thresh) & (y_actual == 0)) /sum(y_actual ==0)\n",
        "    prevalence = (sum(y_actual)/len(y_actual))\n",
        "    print('AUC:%.3f'%auc)\n",
        "    print('Accuracy:%.3f'%accuracy)\n",
        "    print('Recall:%.3f'%recall)\n",
        "    print('Precision:%.3f'%precision)\n",
        "    print('Specificity:%.3f'%specificity)\n",
        "    print('Prevalence:%.3f'%prevalence)\n",
        "    print(' ')\n",
        "    return auc, accuracy, recall, precision, specificity\n",
        "# Threshold Value\n",
        "thresh = (sum(y_train)/len(y_train))[0]"
      ],
      "metadata": {
        "id": "qr3FIgKCu9M4"
      },
      "execution_count": null,
      "outputs": []
    },
    {
      "cell_type": "code",
      "source": [
        "# Metrics\n",
        "print('Train');\n",
        "print_report(y_train[:10000], y_train_preds_lstm, thresh)\n",
        "print('Valid');\n",
        "print_report(y_valid, y_valid_preds_lstm, thresh);"
      ],
      "metadata": {
        "execution": {
          "iopub.status.busy": "2021-11-15T11:15:56.965834Z",
          "iopub.execute_input": "2021-11-15T11:15:56.96606Z",
          "iopub.status.idle": "2021-11-15T11:15:57.223791Z",
          "shell.execute_reply.started": "2021-11-15T11:15:56.966035Z",
          "shell.execute_reply": "2021-11-15T11:15:57.222798Z"
        },
        "trusted": true,
        "id": "2St8KvQjmhyL"
      },
      "execution_count": null,
      "outputs": []
    },
    {
      "cell_type": "markdown",
      "source": [
        "<div style=\"background:#c72e57;color:#fff;padding:1em 2em 1.5em 2em;border-radius: 3px;font-weight:bold\">\n",
        "    <strong>\n",
        "        <h4 style = \"color:#fff\"><font size = 4>Évaluation</font></h4>\n",
        "    </strong>\n",
        "</div>"
      ],
      "metadata": {
        "id": "MTrsA5J7mhyL"
      }
    },
    {
      "cell_type": "code",
      "source": [
        "from sklearn.metrics import roc_curve, roc_auc_score\n",
        "\n",
        "\n",
        "fpr_valid_lstm, tpr_valid_lstm, t_valid_lstm = roc_curve(y_valid, y_valid_preds_lstm)\n",
        "auc_valid_lstm = roc_auc_score(y_valid, y_valid_preds_lstm)\n",
        "\n",
        "plt.plot(fpr_valid_lstm, tpr_valid_lstm, 'b-', label = 'LSTM AUC:%.3f'%auc_valid_lstm)\n",
        "\n",
        "plt.plot([0,1],[0,1], 'k--')\n",
        "plt.xlabel('FPR')\n",
        "plt.ylabel('TPR')\n",
        "plt.legend(bbox_to_anchor = (1.04,1), loc = 'upper left')\n",
        "plt.title('Validation Set')\n",
        "plt.show()\n"
      ],
      "metadata": {
        "execution": {
          "iopub.status.busy": "2021-11-15T11:15:57.225507Z",
          "iopub.execute_input": "2021-11-15T11:15:57.225822Z",
          "iopub.status.idle": "2021-11-15T11:15:57.519582Z",
          "shell.execute_reply.started": "2021-11-15T11:15:57.225778Z",
          "shell.execute_reply": "2021-11-15T11:15:57.518658Z"
        },
        "trusted": true,
        "id": "d8VaGRW4mhyL"
      },
      "execution_count": null,
      "outputs": []
    }
  ]
}